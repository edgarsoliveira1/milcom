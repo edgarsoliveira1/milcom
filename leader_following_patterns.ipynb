{
 "cells": [
  {
   "cell_type": "code",
   "execution_count": 1,
   "id": "ee932df0",
   "metadata": {},
   "outputs": [],
   "source": [
    "import os\n",
    "\n",
    "import contextily as ctx\n",
    "import dask.dataframe as dd\n",
    "import matplotlib.pyplot as plt\n",
    "import numpy as np\n",
    "import pandas as pd\n",
    "import seaborn as sns\n",
    "import geopandas as gpd\n",
    "from matplotlib import cm\n",
    "import networkx as nx\n",
    "from joblib import Parallel, delayed"
   ]
  },
  {
   "cell_type": "code",
   "execution_count": 2,
   "id": "6a683d2f",
   "metadata": {},
   "outputs": [],
   "source": [
    "enriched_points = dd.read_csv(\n",
    "    \"./anglova_metrics_enriched/points_enriched_metrics.csv\",\n",
    ").compute()\n",
    "enriched_points[\"t\"] = pd.to_datetime(enriched_points[\"t\"])\n",
    "enriched_trajectories_df = pd.read_csv(\n",
    "    \"./anglova_metrics_enriched/trajectories_enriched_metrics.csv\",\n",
    ")\n",
    "pair_wise_distances = dd.read_csv(\n",
    "    \"./pairwise_distances.csv\",\n",
    ").compute()\n"
   ]
  },
  {
   "cell_type": "code",
   "execution_count": 3,
   "id": "b1178f7f",
   "metadata": {},
   "outputs": [],
   "source": [
    "output_path = \"./assets/Leader Following Patterns/\""
   ]
  },
  {
   "cell_type": "code",
   "execution_count": 4,
   "id": "08d92065",
   "metadata": {},
   "outputs": [],
   "source": [
    "def save_plot(filename):\n",
    "    if not os.path.exists(output_path):\n",
    "        os.makedirs(output_path)\n",
    "    plt.savefig(\n",
    "        f\"{output_path}/{filename}.png\",\n",
    "        bbox_inches=\"tight\",\n",
    "    )\n",
    "    plt.savefig(\n",
    "        f\"{output_path}/{filename}.pdf\",\n",
    "        bbox_inches=\"tight\",\n",
    "    )"
   ]
  },
  {
   "cell_type": "code",
   "execution_count": 5,
   "id": "64c814f5",
   "metadata": {},
   "outputs": [],
   "source": [
    "cud_okabe_ito_colors = [\n",
    "    \"#E69F00\",  # orange\n",
    "    \"#56B4E9\",  # sky blue\n",
    "    \"#009E73\",  # green\n",
    "    \"#F0E442\",  # yellow\n",
    "    \"#0072B2\",  # blue\n",
    "    \"#D55E00\",  # reddish orange\n",
    "    \"#CC79A7\",  # purple\n",
    "    \"#000000\",  # black\n",
    "]"
   ]
  },
  {
   "cell_type": "code",
   "execution_count": 6,
   "id": "859cc2b5",
   "metadata": {},
   "outputs": [],
   "source": [
    "def get_company_color(company):\n",
    "    if company == 6:\n",
    "        return sns.color_palette(\"Set2\")[company - 1 % len(sns.color_palette(\"Set2\"))]\n",
    "    return sns.color_palette(\"Set1\")[company - 1 % len(sns.color_palette(\"Set1\"))]"
   ]
  },
  {
   "cell_type": "markdown",
   "id": "4d521a26",
   "metadata": {},
   "source": [
    "### Time-lagged correlation"
   ]
  },
  {
   "cell_type": "code",
   "execution_count": 7,
   "id": "3cde7afa",
   "metadata": {},
   "outputs": [
    {
     "name": "stdout",
     "output_type": "stream",
     "text": [
      "       id1  id2  correlation\n",
      "0        1    2     0.999976\n",
      "1        1    3     0.999981\n",
      "2        1    4     0.999987\n",
      "3        1    5     0.999986\n",
      "4        1    6     0.999986\n",
      "...    ...  ...          ...\n",
      "12241  154  156     0.999726\n",
      "12242  154  157     0.998748\n",
      "12243  155  156     0.998987\n",
      "12244  155  157     0.999858\n",
      "12245  156  157     0.999933\n",
      "\n",
      "[12246 rows x 3 columns]\n"
     ]
    }
   ],
   "source": [
    "from scipy.stats import pearsonr\n",
    "\n",
    "def compute_time_lagged_correlation(enriched_points, time_lag):\n",
    "    results = []\n",
    "    grouped = enriched_points.groupby(['id1', 'id2'])\n",
    "    \n",
    "    for (id1, id2), group in grouped:\n",
    "        group = group.sort_values('t')  # Ensure data is sorted by time\n",
    "        distances = group[['x', 'y']].values\n",
    "        \n",
    "        if len(distances) > time_lag:\n",
    "            lagged_distances = distances[:-time_lag]\n",
    "            current_distances = distances[time_lag:]\n",
    "            \n",
    "            # Compute Pearson correlation\n",
    "            correlation, _ = pearsonr(lagged_distances, current_distances)\n",
    "            results.append({'id1': id1, 'id2': id2, 'correlation': correlation})\n",
    "    \n",
    "    return pd.DataFrame(results)\n",
    "\n",
    "# Example usage with a time lag of 1\n",
    "time_lag = 1\n",
    "time_lagged_correlation_df = compute_time_lagged_correlation(enriched_points, time_lag)\n",
    "print(time_lagged_correlation_df)"
   ]
  },
  {
   "cell_type": "code",
   "execution_count": 37,
   "id": "6380a6e3",
   "metadata": {},
   "outputs": [],
   "source": [
    "# Filter for Company 1\n",
    "# Recreate merged_df if not already defined\n",
    "merged_df = time_lagged_correlation_df.merge(\n",
    "    enriched_trajectories_df[['trajectory_id', 'Company']],\n",
    "    left_on='id2',\n",
    "    right_on='trajectory_id',\n",
    "    how='left'\n",
    ")\n",
    "\n",
    "# Filter for Company 1 and Platoon 1\n",
    "company_1_platoon_1_data = merged_df.merge(\n",
    "    enriched_trajectories_df[['trajectory_id', 'Platoon']],\n",
    "    left_on='id2',\n",
    "    right_on='trajectory_id',\n",
    "    how='left'\n",
    ")\n",
    "company_1_platoon_1_data = company_1_platoon_1_data[\n",
    "    (company_1_platoon_1_data['Company'] == 1) & (company_1_platoon_1_data['Platoon'] == 1)\n",
    "]\n",
    "\n",
    "# Compute the average correlation for each id1\n",
    "average_correlation_company_1_platoon_1 = company_1_platoon_1_data.groupby('id1')['correlation'].mean().reset_index()\n",
    "average_correlation_company_1_platoon_1.rename(columns={'correlation': 'average_correlation'}, inplace=True)\n"
   ]
  },
  {
   "cell_type": "code",
   "execution_count": 38,
   "id": "6a64131d",
   "metadata": {},
   "outputs": [
    {
     "name": "stdout",
     "output_type": "stream",
     "text": [
      "                    Command  average_correlation\n",
      "0         Company Commander             0.999987\n",
      "1  Deputy Company Commander             0.999986\n",
      "2                   Unknown             0.999896\n"
     ]
    }
   ],
   "source": [
    "# Merge average_correlation_company_1 with enriched_trajectories_df to include the Command column\n",
    "merged_with_command = average_correlation_company_1_platoon_1.merge(\n",
    "    enriched_trajectories_df[['trajectory_id', 'Command']],\n",
    "    left_on='id1',\n",
    "    right_on='trajectory_id',\n",
    "    how='left'\n",
    ")\n",
    "\n",
    "# Group by Command and calculate the mean average correlation\n",
    "command_avg_correlation = merged_with_command.groupby('Command')['average_correlation'].mean().reset_index()\n",
    "\n",
    "# Sort by average correlation in descending order\n",
    "command_avg_correlation = command_avg_correlation.sort_values(by='average_correlation', ascending=False)\n",
    "\n",
    "print(command_avg_correlation)"
   ]
  },
  {
   "cell_type": "code",
   "execution_count": 40,
   "id": "01ae1159",
   "metadata": {},
   "outputs": [
    {
     "name": "stderr",
     "output_type": "stream",
     "text": [
      "C:\\Users\\edgar\\AppData\\Local\\Temp\\ipykernel_18132\\376269127.py:2: FutureWarning: \n",
      "\n",
      "Passing `palette` without assigning `hue` is deprecated and will be removed in v0.14.0. Assign the `x` variable to `hue` and set `legend=False` for the same effect.\n",
      "\n",
      "  sns.barplot(\n"
     ]
    },
    {
     "data": {
      "image/png": "[encoded data removed]",
      "text/plain": [
       "<Figure size 1000x600 with 1 Axes>"
      ]
     },
     "metadata": {},
     "output_type": "display_data"
    }
   ],
   "source": [
    "plt.figure(figsize=(10, 6))\n",
    "sns.barplot(\n",
    "    data=command_avg_correlation,\n",
    "    x='Command',\n",
    "    y='average_correlation',\n",
    "    palette='viridis'\n",
    ")\n",
    "plt.title('Average Correlation by Command')\n",
    "plt.xlabel('Command')\n",
    "plt.ylabel('Average Correlation')\n",
    "plt.xticks(rotation=45)\n",
    "plt.tight_layout()\n",
    "\n",
    "plt.show()\n"
   ]
  },
  {
   "cell_type": "markdown",
   "id": "90843063",
   "metadata": {},
   "source": [
    "### DTW (Dynamic Time Warping)"
   ]
  },
  {
   "cell_type": "code",
   "execution_count": 8,
   "id": "3061dd64",
   "metadata": {},
   "outputs": [
    {
     "name": "stdout",
     "output_type": "stream",
     "text": [
      "Collecting fastdtw\n",
      "  Downloading fastdtw-0.3.4.tar.gz (133 kB)\n",
      "  Preparing metadata (setup.py): started\n",
      "  Preparing metadata (setup.py): finished with status 'done'\n",
      "Requirement already satisfied: numpy in c:\\users\\edgar\\anaconda3\\envs\\moveminer\\lib\\site-packages (from fastdtw) (2.1.3)\n",
      "Building wheels for collected packages: fastdtw\n",
      "  Building wheel for fastdtw (setup.py): started\n",
      "  Building wheel for fastdtw (setup.py): finished with status 'done'\n",
      "  Created wheel for fastdtw: filename=fastdtw-0.3.4-py3-none-any.whl size=3635 sha256=4ee8c109bf86fd6b7be8e58d1b1c224890d3e4f9eed802046932f9a03669b53d\n",
      "  Stored in directory: c:\\users\\edgar\\appdata\\local\\pip\\cache\\wheels\\73\\c8\\f7\\c25448dab74c3acf4848bc25d513c736bb93910277e1528ef4\n",
      "Successfully built fastdtw\n",
      "Installing collected packages: fastdtw\n",
      "Successfully installed fastdtw-0.3.4\n"
     ]
    }
   ],
   "source": [
    "!pip install fastdtw"
   ]
  },
  {
   "cell_type": "code",
   "execution_count": null,
   "id": "354bd00f",
   "metadata": {},
   "outputs": [],
   "source": [
    "from fastdtw import fastdtw\n",
    "from scipy.spatial.distance import euclidean\n",
    "\n",
    "def find_leading_following_pairs(pair_wise_filtered):\n",
    "    results = []\n",
    "    for _, row in pair_wise_filtered.iterrows():\n",
    "        id1_trajectory = enriched_points[enriched_points['trajectory_id'] == row['id1']].sort_values('t')[['x', 'y']].values\n",
    "        id2_trajectory = enriched_points[enriched_points['trajectory_id'] == row['id2']].sort_values('t')[['x', 'y']].values\n",
    "        \n",
    "        if len(id1_trajectory) > 0 and len(id2_trajectory) > 0:\n",
    "            # Compute DTW distance\n",
    "            distance, _ = fastdtw(id1_trajectory, id2_trajectory, dist=euclidean)\n",
    "            results.append({'id1': row['id1'], 'id2': row['id2'], 'dtw_distance': distance})\n",
    "    \n",
    "    return pd.DataFrame(results)\n",
    "\n",
    "# Example usage\n",
    "pair_wise_filtered = pair_wise_distances[\n",
    "    (pair_wise_distances['id1'].isin(enriched_trajectories_df[enriched_trajectories_df['Company'] == 1]['trajectory_id'])) &\n",
    "    (pair_wise_distances['id2'].isin(enriched_trajectories_df[enriched_trajectories_df['Company'] == 1]['trajectory_id']))\n",
    "]\n",
    "dtw_results = find_leading_following_pairs(pair_wise_filtered)\n",
    "print(dtw_results)"
   ]
  },
  {
   "cell_type": "markdown",
   "id": "d0547605",
   "metadata": {},
   "source": [
    "### Graph Approach"
   ]
  },
  {
   "cell_type": "code",
   "execution_count": 24,
   "id": "c528e1ab",
   "metadata": {},
   "outputs": [],
   "source": [
    "import itertools\n",
    "\n",
    "FOLLOW_THRESHOLD = 0.2\n",
    "\n",
    "def compute_leader_graph(enriched_trajectories_df, pair_wise_distances, company=None):\n",
    "    if company is not None:\n",
    "        filtered_trajectories = enriched_trajectories_df[enriched_trajectories_df['Company'] == company]\n",
    "    else:\n",
    "        filtered_trajectories = enriched_trajectories_df\n",
    "\n",
    "    trajectory_ids = filtered_trajectories['trajectory_id'].unique()\n",
    "\n",
    "    all_pairs = pd.DataFrame(\n",
    "        [(id1, id2) for id1, id2 in itertools.product(trajectory_ids, trajectory_ids) if id1 != id2],\n",
    "        columns=['id1', 'id2']\n",
    "    )\n",
    "\n",
    "    pair_wise_distances_full = all_pairs.merge(\n",
    "        pair_wise_distances,\n",
    "        on=['id1', 'id2'],\n",
    "        how='left'\n",
    "    )\n",
    "\n",
    "    pair_wise_distances_full['follow'] = pair_wise_distances_full['distance'].notna().astype(int)\n",
    "\n",
    "    total_counts = pair_wise_distances_full.groupby('id2').size().reset_index(name='total')\n",
    "    follow_counts = pair_wise_distances_full.groupby(['id1', 'id2'])['follow'].sum().reset_index(name='count')\n",
    "\n",
    "    follow_df = follow_counts.merge(total_counts, on='id2')\n",
    "    follow_df['follow_fraction'] = follow_df['count'] / follow_df['total']\n",
    "\n",
    "    consistent_follows = follow_df[follow_df['follow_fraction'] > FOLLOW_THRESHOLD]\n",
    "\n",
    "    G = nx.DiGraph()\n",
    "    for _, row in consistent_follows.iterrows():\n",
    "        G.add_edge(row['id1'], row['id2'], weight=row['follow_fraction'])\n",
    "\n",
    "    pagerank_scores = nx.pagerank(G, weight='weight')\n",
    "\n",
    "    pagerank_df = pd.DataFrame(list(pagerank_scores.items()), columns=['trajectory_id', 'pagerank'])\n",
    "    pagerank_df = pagerank_df.merge(enriched_trajectories_df, on='trajectory_id', how='left')\n",
    "    pagerank_df = pagerank_df.sort_values('pagerank', ascending=False)\n",
    "    return pagerank_df\n"
   ]
  },
  {
   "cell_type": "code",
   "execution_count": 25,
   "id": "63a4e1e4",
   "metadata": {},
   "outputs": [],
   "source": [
    "def plot_top_leaders_bar(pagerank_df, top_n=10, title=\"Top Leaders by PageRank\", filename=None):\n",
    "    \"\"\"\n",
    "    Plota um gráfico de barras com os top_n líderes pelo PageRank.\n",
    "    Se filename for fornecido, salva a imagem em PNG e PDF.\n",
    "    \"\"\"\n",
    "    import matplotlib.pyplot as plt\n",
    "    import seaborn as sns\n",
    "\n",
    "    top_leaders = pagerank_df.head(top_n)\n",
    "    plt.figure(figsize=(10, 6))\n",
    "    sns.barplot(\n",
    "        data=top_leaders,\n",
    "        x=\"pagerank\",\n",
    "        y=\"trajectory_id\",\n",
    "        hue=\"Company\" if \"Company\" in top_leaders.columns else None,\n",
    "        dodge=False,\n",
    "        palette=\"Set1\"\n",
    "    )\n",
    "    plt.xlabel(\"PageRank\")\n",
    "    plt.ylabel(\"Trajectory ID\")\n",
    "    plt.title(title)\n",
    "    plt.legend(title=\"Company\", loc=\"lower right\")\n",
    "    plt.tight_layout()\n",
    "    if filename:\n",
    "        plt.savefig(f\"{output_path}/{filename}.png\", bbox_inches=\"tight\")\n",
    "        plt.savefig(f\"{output_path}/{filename}.pdf\", bbox_inches=\"tight\")\n",
    "    plt.show()\n",
    "\n",
    "# Exemplo de uso para o geral:\n",
    "# plot_top_leaders_bar(pagerank_df_geral, top_n=10, title=\"Top 10 Líderes (Geral)\", filename=\"top10_leaders_geral\")"
   ]
  },
  {
   "cell_type": "code",
   "execution_count": 26,
   "id": "e5f6e8b9",
   "metadata": {},
   "outputs": [
    {
     "name": "stdout",
     "output_type": "stream",
     "text": [
      "Geral:\n",
      "   trajectory_id  pagerank                   Command  Company  Platoon\n",
      "4            5.0  0.381654                   Unknown        1        1\n",
      "3            4.0  0.223608                   Unknown        1        1\n",
      "2            3.0  0.166507                   Unknown        1        1\n",
      "1            2.0  0.133350  Deputy Company Commander        1        1\n",
      "0            1.0  0.094881         Company Commander        1        1\n"
     ]
    },
    {
     "data": {
      "image/png": "[encoded data removed]",
      "text/plain": [
       "<Figure size 1000x600 with 1 Axes>"
      ]
     },
     "metadata": {},
     "output_type": "display_data"
    }
   ],
   "source": [
    "# Geral\n",
    "print(\"Geral:\")\n",
    "pagerank_df_geral = compute_leader_graph(enriched_trajectories_df, pair_wise_distances)\n",
    "print(pagerank_df_geral[['trajectory_id', 'pagerank', 'Command', 'Company', 'Platoon']].head(10))\n",
    "plot_top_leaders_bar(pagerank_df_geral, top_n=10, title=\"Top 10 Líderes (Geral)\", filename=\"top10_leaders_geral\")"
   ]
  },
  {
   "cell_type": "code",
   "execution_count": 20,
   "id": "6bef5082",
   "metadata": {},
   "outputs": [
    {
     "name": "stdout",
     "output_type": "stream",
     "text": [
      "\n",
      "Company 1:\n",
      "   trajectory_id  pagerank                   Command  Company  Platoon\n",
      "1            2.0  0.649123  Deputy Company Commander        1        1\n",
      "0            1.0  0.350877         Company Commander        1        1\n",
      "\n",
      "Company 2:\n",
      "   trajectory_id  pagerank                   Command  Company  Platoon\n",
      "1           26.0  0.649123  Deputy Company Commander        2        1\n",
      "0           25.0  0.350877         Company Commander        2        1\n",
      "\n",
      "Company 3:\n",
      "   trajectory_id  pagerank                   Command  Company  Platoon\n",
      "1           50.0  0.649123  Deputy Company Commander        3        1\n",
      "0           49.0  0.350877         Company Commander        3        1\n",
      "\n",
      "Company 4:\n",
      "   trajectory_id  pagerank                   Command  Company  Platoon\n",
      "1           74.0  0.649123  Deputy Company Commander        4        1\n",
      "0           73.0  0.350877         Company Commander        4        1\n",
      "\n",
      "Company 5:\n",
      "   trajectory_id  pagerank                     Command  Company  Platoon\n",
      "1           98.0  0.649123  Deputy Battalion Commander        5        1\n",
      "0           97.0  0.350877         Battalion Commander        5        1\n",
      "\n",
      "Company 6:\n",
      "   trajectory_id  pagerank                Command  Company  Platoon\n",
      "1          120.0  0.649123  Deputy Platoon Leader        6        1\n",
      "0          119.0  0.350877         Platoon Leader        6        1\n"
     ]
    }
   ],
   "source": [
    "\n",
    "# Por Company\n",
    "for company in enriched_trajectories_df['Company'].unique():\n",
    "    print(f\"\\nCompany {company}:\")\n",
    "    pagerank_df_company = compute_leader_graph(enriched_trajectories_df, pair_wise_distances, company=company)\n",
    "    print(pagerank_df_company[['trajectory_id', 'pagerank', 'Command', 'Company', 'Platoon']].head(10))"
   ]
  },
  {
   "cell_type": "markdown",
   "id": "faa40e42",
   "metadata": {},
   "source": [
    "### Velocity and heading consistency"
   ]
  },
  {
   "cell_type": "code",
   "execution_count": 31,
   "id": "76ea43ff",
   "metadata": {},
   "outputs": [
    {
     "ename": "KeyError",
     "evalue": "'trajectory_id_1'",
     "output_type": "error",
     "traceback": [
      "\u001b[1;31m---------------------------------------------------------------------------\u001b[0m",
      "\u001b[1;31mKeyError\u001b[0m                                  Traceback (most recent call last)",
      "\u001b[1;32m~\\AppData\\Local\\Temp\\ipykernel_20720\\3819748404.py\u001b[0m in \u001b[0;36m?\u001b[1;34m()\u001b[0m\n\u001b[0;32m     47\u001b[0m     \u001b[0mleader_counts\u001b[0m \u001b[1;33m=\u001b[0m \u001b[0mdf\u001b[0m\u001b[1;33m.\u001b[0m\u001b[0mgroupby\u001b[0m\u001b[1;33m(\u001b[0m\u001b[1;34m'leader'\u001b[0m\u001b[1;33m)\u001b[0m\u001b[1;33m.\u001b[0m\u001b[0msize\u001b[0m\u001b[1;33m(\u001b[0m\u001b[1;33m)\u001b[0m\u001b[1;33m.\u001b[0m\u001b[0mreset_index\u001b[0m\u001b[1;33m(\u001b[0m\u001b[0mname\u001b[0m\u001b[1;33m=\u001b[0m\u001b[1;34m'n_followers'\u001b[0m\u001b[1;33m)\u001b[0m\u001b[1;33m\u001b[0m\u001b[1;33m\u001b[0m\u001b[0m\n\u001b[0;32m     48\u001b[0m     \u001b[0mleader_counts\u001b[0m \u001b[1;33m=\u001b[0m \u001b[0mleader_counts\u001b[0m\u001b[1;33m.\u001b[0m\u001b[0msort_values\u001b[0m\u001b[1;33m(\u001b[0m\u001b[1;34m'n_followers'\u001b[0m\u001b[1;33m,\u001b[0m \u001b[0mascending\u001b[0m\u001b[1;33m=\u001b[0m\u001b[1;32mFalse\u001b[0m\u001b[1;33m)\u001b[0m\u001b[1;33m\u001b[0m\u001b[1;33m\u001b[0m\u001b[0m\n\u001b[0;32m     49\u001b[0m     \u001b[1;32mreturn\u001b[0m \u001b[0mleader_counts\u001b[0m\u001b[1;33m\u001b[0m\u001b[1;33m\u001b[0m\u001b[0m\n\u001b[0;32m     50\u001b[0m \u001b[1;33m\u001b[0m\u001b[0m\n\u001b[1;32m---> 51\u001b[1;33m \u001b[0mleader_counts\u001b[0m \u001b[1;33m=\u001b[0m \u001b[0manalyze_leadership\u001b[0m\u001b[1;33m(\u001b[0m\u001b[0menriched_points\u001b[0m\u001b[1;33m)\u001b[0m\u001b[1;33m\u001b[0m\u001b[1;33m\u001b[0m\u001b[0m\n\u001b[0m\u001b[0;32m     52\u001b[0m \u001b[0mprint\u001b[0m\u001b[1;33m(\u001b[0m\u001b[0mleader_counts\u001b[0m\u001b[1;33m.\u001b[0m\u001b[0mhead\u001b[0m\u001b[1;33m(\u001b[0m\u001b[1;33m)\u001b[0m\u001b[1;33m)\u001b[0m\u001b[1;33m\u001b[0m\u001b[1;33m\u001b[0m\u001b[0m\n",
      "\u001b[1;32m~\\AppData\\Local\\Temp\\ipykernel_20720\\3819748404.py\u001b[0m in \u001b[0;36m?\u001b[1;34m(enriched_points, distance_std_thresh, heading_mean_thresh)\u001b[0m\n\u001b[0;32m     16\u001b[0m                 \u001b[1;32mcontinue\u001b[0m\u001b[1;33m\u001b[0m\u001b[1;33m\u001b[0m\u001b[0m\n\u001b[0;32m     17\u001b[0m             \u001b[1;31m# Distância ao longo do tempo\u001b[0m\u001b[1;33m\u001b[0m\u001b[1;33m\u001b[0m\u001b[0m\n\u001b[0;32m     18\u001b[0m             \u001b[1;31m# Usar pair_wise_distances para pegar a distância já calculada\u001b[0m\u001b[1;33m\u001b[0m\u001b[1;33m\u001b[0m\u001b[0m\n\u001b[0;32m     19\u001b[0m             \u001b[1;31m# Tentar merge com id1/id2 e, se não houver resultado, inverter id1/id2\u001b[0m\u001b[1;33m\u001b[0m\u001b[1;33m\u001b[0m\u001b[0m\n\u001b[1;32m---> 20\u001b[1;33m             merged_dist = pd.merge(\n\u001b[0m\u001b[0;32m     21\u001b[0m                 \u001b[0mmerged\u001b[0m\u001b[1;33m,\u001b[0m\u001b[1;33m\u001b[0m\u001b[1;33m\u001b[0m\u001b[0m\n\u001b[0;32m     22\u001b[0m                 \u001b[0mpair_wise_distances\u001b[0m\u001b[1;33m,\u001b[0m\u001b[1;33m\u001b[0m\u001b[1;33m\u001b[0m\u001b[0m\n\u001b[0;32m     23\u001b[0m                 \u001b[0mleft_on\u001b[0m\u001b[1;33m=\u001b[0m\u001b[1;33m[\u001b[0m\u001b[1;34m't'\u001b[0m\u001b[1;33m,\u001b[0m \u001b[1;34m'trajectory_id_1'\u001b[0m\u001b[1;33m,\u001b[0m \u001b[1;34m'trajectory_id_2'\u001b[0m\u001b[1;33m]\u001b[0m\u001b[1;33m,\u001b[0m\u001b[1;33m\u001b[0m\u001b[1;33m\u001b[0m\u001b[0m\n",
      "\u001b[1;32mc:\\Users\\edgar\\anaconda3\\envs\\moveminer\\lib\\site-packages\\pandas\\core\\reshape\\merge.py\u001b[0m in \u001b[0;36m?\u001b[1;34m(left, right, how, on, left_on, right_on, left_index, right_index, sort, suffixes, copy, indicator, validate)\u001b[0m\n\u001b[0;32m    166\u001b[0m             \u001b[0mvalidate\u001b[0m\u001b[1;33m=\u001b[0m\u001b[0mvalidate\u001b[0m\u001b[1;33m,\u001b[0m\u001b[1;33m\u001b[0m\u001b[1;33m\u001b[0m\u001b[0m\n\u001b[0;32m    167\u001b[0m             \u001b[0mcopy\u001b[0m\u001b[1;33m=\u001b[0m\u001b[0mcopy\u001b[0m\u001b[1;33m,\u001b[0m\u001b[1;33m\u001b[0m\u001b[1;33m\u001b[0m\u001b[0m\n\u001b[0;32m    168\u001b[0m         )\n\u001b[0;32m    169\u001b[0m     \u001b[1;32melse\u001b[0m\u001b[1;33m:\u001b[0m\u001b[1;33m\u001b[0m\u001b[1;33m\u001b[0m\u001b[0m\n\u001b[1;32m--> 170\u001b[1;33m         op = _MergeOperation(\n\u001b[0m\u001b[0;32m    171\u001b[0m             \u001b[0mleft_df\u001b[0m\u001b[1;33m,\u001b[0m\u001b[1;33m\u001b[0m\u001b[1;33m\u001b[0m\u001b[0m\n\u001b[0;32m    172\u001b[0m             \u001b[0mright_df\u001b[0m\u001b[1;33m,\u001b[0m\u001b[1;33m\u001b[0m\u001b[1;33m\u001b[0m\u001b[0m\n\u001b[0;32m    173\u001b[0m             \u001b[0mhow\u001b[0m\u001b[1;33m=\u001b[0m\u001b[0mhow\u001b[0m\u001b[1;33m,\u001b[0m\u001b[1;33m\u001b[0m\u001b[1;33m\u001b[0m\u001b[0m\n",
      "\u001b[1;32mc:\\Users\\edgar\\anaconda3\\envs\\moveminer\\lib\\site-packages\\pandas\\core\\reshape\\merge.py\u001b[0m in \u001b[0;36m?\u001b[1;34m(self, left, right, how, on, left_on, right_on, left_index, right_index, sort, suffixes, indicator, validate)\u001b[0m\n\u001b[0;32m    790\u001b[0m             \u001b[0mself\u001b[0m\u001b[1;33m.\u001b[0m\u001b[0mright_join_keys\u001b[0m\u001b[1;33m,\u001b[0m\u001b[1;33m\u001b[0m\u001b[1;33m\u001b[0m\u001b[0m\n\u001b[0;32m    791\u001b[0m             \u001b[0mself\u001b[0m\u001b[1;33m.\u001b[0m\u001b[0mjoin_names\u001b[0m\u001b[1;33m,\u001b[0m\u001b[1;33m\u001b[0m\u001b[1;33m\u001b[0m\u001b[0m\n\u001b[0;32m    792\u001b[0m             \u001b[0mleft_drop\u001b[0m\u001b[1;33m,\u001b[0m\u001b[1;33m\u001b[0m\u001b[1;33m\u001b[0m\u001b[0m\n\u001b[0;32m    793\u001b[0m             \u001b[0mright_drop\u001b[0m\u001b[1;33m,\u001b[0m\u001b[1;33m\u001b[0m\u001b[1;33m\u001b[0m\u001b[0m\n\u001b[1;32m--> 794\u001b[1;33m         ) = self._get_merge_keys()\n\u001b[0m\u001b[0;32m    795\u001b[0m \u001b[1;33m\u001b[0m\u001b[0m\n\u001b[0;32m    796\u001b[0m         \u001b[1;32mif\u001b[0m \u001b[0mleft_drop\u001b[0m\u001b[1;33m:\u001b[0m\u001b[1;33m\u001b[0m\u001b[1;33m\u001b[0m\u001b[0m\n\u001b[0;32m    797\u001b[0m             \u001b[0mself\u001b[0m\u001b[1;33m.\u001b[0m\u001b[0mleft\u001b[0m \u001b[1;33m=\u001b[0m \u001b[0mself\u001b[0m\u001b[1;33m.\u001b[0m\u001b[0mleft\u001b[0m\u001b[1;33m.\u001b[0m\u001b[0m_drop_labels_or_levels\u001b[0m\u001b[1;33m(\u001b[0m\u001b[0mleft_drop\u001b[0m\u001b[1;33m)\u001b[0m\u001b[1;33m\u001b[0m\u001b[1;33m\u001b[0m\u001b[0m\n",
      "\u001b[1;32mc:\\Users\\edgar\\anaconda3\\envs\\moveminer\\lib\\site-packages\\pandas\\core\\reshape\\merge.py\u001b[0m in \u001b[0;36m?\u001b[1;34m(self)\u001b[0m\n\u001b[0;32m   1306\u001b[0m                     \u001b[1;32mif\u001b[0m \u001b[0mlk\u001b[0m \u001b[1;32mis\u001b[0m \u001b[1;32mnot\u001b[0m \u001b[1;32mNone\u001b[0m\u001b[1;33m:\u001b[0m\u001b[1;33m\u001b[0m\u001b[1;33m\u001b[0m\u001b[0m\n\u001b[0;32m   1307\u001b[0m                         \u001b[1;31m# Then we're either Hashable or a wrong-length arraylike,\u001b[0m\u001b[1;33m\u001b[0m\u001b[1;33m\u001b[0m\u001b[0m\n\u001b[0;32m   1308\u001b[0m                         \u001b[1;31m#  the latter of which will raise\u001b[0m\u001b[1;33m\u001b[0m\u001b[1;33m\u001b[0m\u001b[0m\n\u001b[0;32m   1309\u001b[0m                         \u001b[0mlk\u001b[0m \u001b[1;33m=\u001b[0m \u001b[0mcast\u001b[0m\u001b[1;33m(\u001b[0m\u001b[0mHashable\u001b[0m\u001b[1;33m,\u001b[0m \u001b[0mlk\u001b[0m\u001b[1;33m)\u001b[0m\u001b[1;33m\u001b[0m\u001b[1;33m\u001b[0m\u001b[0m\n\u001b[1;32m-> 1310\u001b[1;33m                         \u001b[0mleft_keys\u001b[0m\u001b[1;33m.\u001b[0m\u001b[0mappend\u001b[0m\u001b[1;33m(\u001b[0m\u001b[0mleft\u001b[0m\u001b[1;33m.\u001b[0m\u001b[0m_get_label_or_level_values\u001b[0m\u001b[1;33m(\u001b[0m\u001b[0mlk\u001b[0m\u001b[1;33m)\u001b[0m\u001b[1;33m)\u001b[0m\u001b[1;33m\u001b[0m\u001b[1;33m\u001b[0m\u001b[0m\n\u001b[0m\u001b[0;32m   1311\u001b[0m                         \u001b[0mjoin_names\u001b[0m\u001b[1;33m.\u001b[0m\u001b[0mappend\u001b[0m\u001b[1;33m(\u001b[0m\u001b[0mlk\u001b[0m\u001b[1;33m)\u001b[0m\u001b[1;33m\u001b[0m\u001b[1;33m\u001b[0m\u001b[0m\n\u001b[0;32m   1312\u001b[0m                     \u001b[1;32melse\u001b[0m\u001b[1;33m:\u001b[0m\u001b[1;33m\u001b[0m\u001b[1;33m\u001b[0m\u001b[0m\n\u001b[0;32m   1313\u001b[0m                         \u001b[1;31m# work-around for merge_asof(left_index=True)\u001b[0m\u001b[1;33m\u001b[0m\u001b[1;33m\u001b[0m\u001b[0m\n",
      "\u001b[1;32mc:\\Users\\edgar\\anaconda3\\envs\\moveminer\\lib\\site-packages\\pandas\\core\\generic.py\u001b[0m in \u001b[0;36m?\u001b[1;34m(self, key, axis)\u001b[0m\n\u001b[0;32m   1907\u001b[0m             \u001b[0mvalues\u001b[0m \u001b[1;33m=\u001b[0m \u001b[0mself\u001b[0m\u001b[1;33m.\u001b[0m\u001b[0mxs\u001b[0m\u001b[1;33m(\u001b[0m\u001b[0mkey\u001b[0m\u001b[1;33m,\u001b[0m \u001b[0maxis\u001b[0m\u001b[1;33m=\u001b[0m\u001b[0mother_axes\u001b[0m\u001b[1;33m[\u001b[0m\u001b[1;36m0\u001b[0m\u001b[1;33m]\u001b[0m\u001b[1;33m)\u001b[0m\u001b[1;33m.\u001b[0m\u001b[0m_values\u001b[0m\u001b[1;33m\u001b[0m\u001b[1;33m\u001b[0m\u001b[0m\n\u001b[0;32m   1908\u001b[0m         \u001b[1;32melif\u001b[0m \u001b[0mself\u001b[0m\u001b[1;33m.\u001b[0m\u001b[0m_is_level_reference\u001b[0m\u001b[1;33m(\u001b[0m\u001b[0mkey\u001b[0m\u001b[1;33m,\u001b[0m \u001b[0maxis\u001b[0m\u001b[1;33m=\u001b[0m\u001b[0maxis\u001b[0m\u001b[1;33m)\u001b[0m\u001b[1;33m:\u001b[0m\u001b[1;33m\u001b[0m\u001b[1;33m\u001b[0m\u001b[0m\n\u001b[0;32m   1909\u001b[0m             \u001b[0mvalues\u001b[0m \u001b[1;33m=\u001b[0m \u001b[0mself\u001b[0m\u001b[1;33m.\u001b[0m\u001b[0maxes\u001b[0m\u001b[1;33m[\u001b[0m\u001b[0maxis\u001b[0m\u001b[1;33m]\u001b[0m\u001b[1;33m.\u001b[0m\u001b[0mget_level_values\u001b[0m\u001b[1;33m(\u001b[0m\u001b[0mkey\u001b[0m\u001b[1;33m)\u001b[0m\u001b[1;33m.\u001b[0m\u001b[0m_values\u001b[0m\u001b[1;33m\u001b[0m\u001b[1;33m\u001b[0m\u001b[0m\n\u001b[0;32m   1910\u001b[0m         \u001b[1;32melse\u001b[0m\u001b[1;33m:\u001b[0m\u001b[1;33m\u001b[0m\u001b[1;33m\u001b[0m\u001b[0m\n\u001b[1;32m-> 1911\u001b[1;33m             \u001b[1;32mraise\u001b[0m \u001b[0mKeyError\u001b[0m\u001b[1;33m(\u001b[0m\u001b[0mkey\u001b[0m\u001b[1;33m)\u001b[0m\u001b[1;33m\u001b[0m\u001b[1;33m\u001b[0m\u001b[0m\n\u001b[0m\u001b[0;32m   1912\u001b[0m \u001b[1;33m\u001b[0m\u001b[0m\n\u001b[0;32m   1913\u001b[0m         \u001b[1;31m# Check for duplicates\u001b[0m\u001b[1;33m\u001b[0m\u001b[1;33m\u001b[0m\u001b[0m\n\u001b[0;32m   1914\u001b[0m         \u001b[1;32mif\u001b[0m \u001b[0mvalues\u001b[0m\u001b[1;33m.\u001b[0m\u001b[0mndim\u001b[0m \u001b[1;33m>\u001b[0m \u001b[1;36m1\u001b[0m\u001b[1;33m:\u001b[0m\u001b[1;33m\u001b[0m\u001b[1;33m\u001b[0m\u001b[0m\n",
      "\u001b[1;31mKeyError\u001b[0m: 'trajectory_id_1'"
     ]
    }
   ],
   "source": [
    "import numpy as np\n",
    "import pandas as pd\n",
    "\n",
    "def analyze_leadership(enriched_points, distance_std_thresh=5, heading_mean_thresh=15):\n",
    "    ids = enriched_points['trajectory_id'].unique()\n",
    "    results = []\n",
    "    for id1 in ids:\n",
    "        for id2 in ids:\n",
    "            if id1 == id2:\n",
    "                continue\n",
    "            # Alinhar pontos no tempo\n",
    "            traj1 = enriched_points[enriched_points['trajectory_id'] == id1][['t', 'x', 'y', 'direction']].sort_values('t')\n",
    "            traj2 = enriched_points[enriched_points['trajectory_id'] == id2][['t', 'x', 'y', 'direction']].sort_values('t')\n",
    "            merged = pd.merge(traj1, traj2, on='t', suffixes=('_1', '_2'))\n",
    "            if len(merged) < 5:\n",
    "                continue\n",
    "            # Distância ao longo do tempo\n",
    "            # Usar pair_wise_distances para pegar a distância já calculada\n",
    "            # Tentar merge com id1/id2 e, se não houver resultado, inverter id1/id2\n",
    "            merged_dist = pd.merge(\n",
    "                merged,\n",
    "                pair_wise_distances,\n",
    "                left_on=['t', 'trajectory_id_1', 'trajectory_id_2'],\n",
    "                right_on=['t', 'id1', 'id2'],\n",
    "                how='left'\n",
    "            )\n",
    "            if merged_dist['distance'].isnull().all():\n",
    "                # Tenta inverter id1/id2\n",
    "                merged_dist = pd.merge(\n",
    "                    merged,\n",
    "                    pair_wise_distances,\n",
    "                    left_on=['t', 'trajectory_id_2', 'trajectory_id_1'],\n",
    "                    right_on=['t', 'id1', 'id2'],\n",
    "                    how='left'\n",
    "                )\n",
    "            dist = merged_dist['distance']\n",
    "            dist_std = dist.std()\n",
    "            # Diferença de direção\n",
    "            heading_diff = (merged['direction_1'] - merged['direction_2']).abs()\n",
    "            heading_diff = heading_diff.apply(lambda x: min(x, 360 - x))\n",
    "            heading_mean = heading_diff.mean()\n",
    "            # Critério de seguimento\n",
    "            if dist_std < distance_std_thresh and heading_mean < heading_mean_thresh:\n",
    "                results.append({'leader': id1, 'follower': id2})\n",
    "    # Contar seguidores por líder\n",
    "    df = pd.DataFrame(results)\n",
    "    leader_counts = df.groupby('leader').size().reset_index(name='n_followers')\n",
    "    leader_counts = leader_counts.sort_values('n_followers', ascending=False)\n",
    "    return leader_counts\n",
    "\n",
    "leader_counts = analyze_leadership(enriched_points)\n",
    "print(leader_counts.head())"
   ]
  },
  {
   "cell_type": "code",
   "execution_count": null,
   "id": "82b87c75",
   "metadata": {},
   "outputs": [],
   "source": []
  },
  {
   "cell_type": "markdown",
   "id": "6ff0a14b",
   "metadata": {},
   "source": []
  }
 ],
 "metadata": {
  "kernelspec": {
   "display_name": "moveminer",
   "language": "python",
   "name": "python3"
  },
  "language_info": {
   "codemirror_mode": {
    "name": "ipython",
    "version": 3
   },
   "file_extension": ".py",
   "mimetype": "text/x-python",
   "name": "python",
   "nbconvert_exporter": "python",
   "pygments_lexer": "ipython3",
   "version": "3.10.16"
  }
 },
 "nbformat": 4,
 "nbformat_minor": 5
}
