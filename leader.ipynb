{
 "cells": [
  {
   "cell_type": "code",
   "execution_count": 5,
   "id": "cd6b12e6",
   "metadata": {},
   "outputs": [],
   "source": [
    "import os\n",
    "\n",
    "import contextily as ctx\n",
    "import dask.dataframe as dd\n",
    "import matplotlib.pyplot as plt\n",
    "import numpy as np\n",
    "import pandas as pd\n",
    "import seaborn as sns\n",
    "import geopandas as gpd\n",
    "from matplotlib import cm\n",
    "import networkx as nx\n",
    "from joblib import Parallel, delayed"
   ]
  },
  {
   "cell_type": "code",
   "execution_count": 6,
   "id": "9527e2a7",
   "metadata": {},
   "outputs": [
    {
     "ename": "MemoryError",
     "evalue": "Unable to allocate 729. MiB for an array with shape (95518800,) and data type int64",
     "output_type": "error",
     "traceback": [
      "\u001b[1;31m---------------------------------------------------------------------------\u001b[0m",
      "\u001b[1;31mMemoryError\u001b[0m                               Traceback (most recent call last)",
      "Cell \u001b[1;32mIn[6], line 10\u001b[0m\n\u001b[0;32m      4\u001b[0m enriched_points[\u001b[38;5;124m\"\u001b[39m\u001b[38;5;124mt\u001b[39m\u001b[38;5;124m\"\u001b[39m] \u001b[38;5;241m=\u001b[39m pd\u001b[38;5;241m.\u001b[39mto_datetime(enriched_points[\u001b[38;5;124m\"\u001b[39m\u001b[38;5;124mt\u001b[39m\u001b[38;5;124m\"\u001b[39m])\n\u001b[0;32m      5\u001b[0m enriched_trajectories_df \u001b[38;5;241m=\u001b[39m pd\u001b[38;5;241m.\u001b[39mread_csv(\n\u001b[0;32m      6\u001b[0m     \u001b[38;5;124m\"\u001b[39m\u001b[38;5;124m./anglova_metrics_enriched/trajectories_enriched_metrics.csv\u001b[39m\u001b[38;5;124m\"\u001b[39m,\n\u001b[0;32m      7\u001b[0m )\n\u001b[0;32m      8\u001b[0m pair_wise_distances \u001b[38;5;241m=\u001b[39m \u001b[43mdd\u001b[49m\u001b[38;5;241;43m.\u001b[39;49m\u001b[43mread_csv\u001b[49m\u001b[43m(\u001b[49m\n\u001b[0;32m      9\u001b[0m \u001b[43m    \u001b[49m\u001b[38;5;124;43m\"\u001b[39;49m\u001b[38;5;124;43m./pairwise_distances.csv\u001b[39;49m\u001b[38;5;124;43m\"\u001b[39;49m\u001b[43m,\u001b[49m\n\u001b[1;32m---> 10\u001b[0m \u001b[43m)\u001b[49m\u001b[38;5;241;43m.\u001b[39;49m\u001b[43mcompute\u001b[49m\u001b[43m(\u001b[49m\u001b[43m)\u001b[49m\n",
      "File \u001b[1;32mc:\\Users\\edgar\\anaconda3\\envs\\moveminer\\lib\\site-packages\\dask\\dataframe\\dask_expr\\_collection.py:491\u001b[0m, in \u001b[0;36mFrameBase.compute\u001b[1;34m(self, fuse, concatenate, **kwargs)\u001b[0m\n\u001b[0;32m    489\u001b[0m     out \u001b[38;5;241m=\u001b[39m out\u001b[38;5;241m.\u001b[39mrepartition(npartitions\u001b[38;5;241m=\u001b[39m\u001b[38;5;241m1\u001b[39m)\n\u001b[0;32m    490\u001b[0m out \u001b[38;5;241m=\u001b[39m out\u001b[38;5;241m.\u001b[39moptimize(fuse\u001b[38;5;241m=\u001b[39mfuse)\n\u001b[1;32m--> 491\u001b[0m \u001b[38;5;28;01mreturn\u001b[39;00m DaskMethodsMixin\u001b[38;5;241m.\u001b[39mcompute(out, \u001b[38;5;241m*\u001b[39m\u001b[38;5;241m*\u001b[39mkwargs)\n",
      "File \u001b[1;32mc:\\Users\\edgar\\anaconda3\\envs\\moveminer\\lib\\site-packages\\dask\\base.py:370\u001b[0m, in \u001b[0;36mDaskMethodsMixin.compute\u001b[1;34m(self, **kwargs)\u001b[0m\n\u001b[0;32m    346\u001b[0m \u001b[38;5;28;01mdef\u001b[39;00m\u001b[38;5;250m \u001b[39m\u001b[38;5;21mcompute\u001b[39m(\u001b[38;5;28mself\u001b[39m, \u001b[38;5;241m*\u001b[39m\u001b[38;5;241m*\u001b[39mkwargs):\n\u001b[0;32m    347\u001b[0m \u001b[38;5;250m    \u001b[39m\u001b[38;5;124;03m\"\"\"Compute this dask collection\u001b[39;00m\n\u001b[0;32m    348\u001b[0m \n\u001b[0;32m    349\u001b[0m \u001b[38;5;124;03m    This turns a lazy Dask collection into its in-memory equivalent.\u001b[39;00m\n\u001b[1;32m   (...)\u001b[0m\n\u001b[0;32m    368\u001b[0m \u001b[38;5;124;03m    dask.compute\u001b[39;00m\n\u001b[0;32m    369\u001b[0m \u001b[38;5;124;03m    \"\"\"\u001b[39;00m\n\u001b[1;32m--> 370\u001b[0m     (result,) \u001b[38;5;241m=\u001b[39m compute(\u001b[38;5;28mself\u001b[39m, traverse\u001b[38;5;241m=\u001b[39m\u001b[38;5;28;01mFalse\u001b[39;00m, \u001b[38;5;241m*\u001b[39m\u001b[38;5;241m*\u001b[39mkwargs)\n\u001b[0;32m    371\u001b[0m     \u001b[38;5;28;01mreturn\u001b[39;00m result\n",
      "File \u001b[1;32mc:\\Users\\edgar\\anaconda3\\envs\\moveminer\\lib\\site-packages\\dask\\base.py:656\u001b[0m, in \u001b[0;36mcompute\u001b[1;34m(traverse, optimize_graph, scheduler, get, *args, **kwargs)\u001b[0m\n\u001b[0;32m    653\u001b[0m     postcomputes\u001b[38;5;241m.\u001b[39mappend(x\u001b[38;5;241m.\u001b[39m__dask_postcompute__())\n\u001b[0;32m    655\u001b[0m \u001b[38;5;28;01mwith\u001b[39;00m shorten_traceback():\n\u001b[1;32m--> 656\u001b[0m     results \u001b[38;5;241m=\u001b[39m schedule(dsk, keys, \u001b[38;5;241m*\u001b[39m\u001b[38;5;241m*\u001b[39mkwargs)\n\u001b[0;32m    658\u001b[0m \u001b[38;5;28;01mreturn\u001b[39;00m repack([f(r, \u001b[38;5;241m*\u001b[39ma) \u001b[38;5;28;01mfor\u001b[39;00m r, (f, a) \u001b[38;5;129;01min\u001b[39;00m \u001b[38;5;28mzip\u001b[39m(results, postcomputes)])\n",
      "File \u001b[1;32mc:\\Users\\edgar\\anaconda3\\envs\\moveminer\\lib\\site-packages\\dask\\dataframe\\dispatch.py:68\u001b[0m, in \u001b[0;36mconcat\u001b[1;34m(dfs, axis, join, uniform, filter_warning, ignore_index, **kwargs)\u001b[0m\n\u001b[0;32m     66\u001b[0m \u001b[38;5;28;01melse\u001b[39;00m:\n\u001b[0;32m     67\u001b[0m     func \u001b[38;5;241m=\u001b[39m concat_dispatch\u001b[38;5;241m.\u001b[39mdispatch(\u001b[38;5;28mtype\u001b[39m(dfs[\u001b[38;5;241m0\u001b[39m]))\n\u001b[1;32m---> 68\u001b[0m     \u001b[38;5;28;01mreturn\u001b[39;00m func(\n\u001b[0;32m     69\u001b[0m         dfs,\n\u001b[0;32m     70\u001b[0m         axis\u001b[38;5;241m=\u001b[39maxis,\n\u001b[0;32m     71\u001b[0m         join\u001b[38;5;241m=\u001b[39mjoin,\n\u001b[0;32m     72\u001b[0m         uniform\u001b[38;5;241m=\u001b[39muniform,\n\u001b[0;32m     73\u001b[0m         filter_warning\u001b[38;5;241m=\u001b[39mfilter_warning,\n\u001b[0;32m     74\u001b[0m         ignore_index\u001b[38;5;241m=\u001b[39mignore_index,\n\u001b[0;32m     75\u001b[0m         \u001b[38;5;241m*\u001b[39m\u001b[38;5;241m*\u001b[39mkwargs,\n\u001b[0;32m     76\u001b[0m     )\n",
      "File \u001b[1;32mc:\\Users\\edgar\\anaconda3\\envs\\moveminer\\lib\\site-packages\\dask\\dataframe\\backends.py:697\u001b[0m, in \u001b[0;36mconcat_pandas\u001b[1;34m(dfs, axis, join, uniform, filter_warning, ignore_index, **kwargs)\u001b[0m\n\u001b[0;32m    695\u001b[0m             \u001b[38;5;28;01mif\u001b[39;00m filter_warning:\n\u001b[0;32m    696\u001b[0m                 warnings\u001b[38;5;241m.\u001b[39msimplefilter(\u001b[38;5;124m\"\u001b[39m\u001b[38;5;124mignore\u001b[39m\u001b[38;5;124m\"\u001b[39m, \u001b[38;5;167;01mFutureWarning\u001b[39;00m)\n\u001b[1;32m--> 697\u001b[0m             out \u001b[38;5;241m=\u001b[39m \u001b[43mpd\u001b[49m\u001b[38;5;241;43m.\u001b[39;49m\u001b[43mconcat\u001b[49m\u001b[43m(\u001b[49m\u001b[43mdfs3\u001b[49m\u001b[43m,\u001b[49m\u001b[43m \u001b[49m\u001b[43mjoin\u001b[49m\u001b[38;5;241;43m=\u001b[39;49m\u001b[43mjoin\u001b[49m\u001b[43m,\u001b[49m\u001b[43m \u001b[49m\u001b[43msort\u001b[49m\u001b[38;5;241;43m=\u001b[39;49m\u001b[38;5;28;43;01mFalse\u001b[39;49;00m\u001b[43m)\u001b[49m\n\u001b[0;32m    698\u001b[0m \u001b[38;5;28;01melse\u001b[39;00m:\n\u001b[0;32m    699\u001b[0m     \u001b[38;5;28;01mif\u001b[39;00m \u001b[38;5;28misinstance\u001b[39m(dfs2[\u001b[38;5;241m0\u001b[39m]\u001b[38;5;241m.\u001b[39mdtype, pd\u001b[38;5;241m.\u001b[39mCategoricalDtype):\n",
      "File \u001b[1;32mproperties.pyx:36\u001b[0m, in \u001b[0;36mpandas._libs.properties.CachedProperty.__get__\u001b[1;34m()\u001b[0m\n",
      "File \u001b[1;32mproperties.pyx:36\u001b[0m, in \u001b[0;36mpandas._libs.properties.CachedProperty.__get__\u001b[1;34m()\u001b[0m\n",
      "File \u001b[1;32mc:\\Users\\edgar\\anaconda3\\envs\\moveminer\\lib\\site-packages\\pandas\\core\\indexes\\range.py:982\u001b[0m, in \u001b[0;36mRangeIndex._concat\u001b[1;34m(self, indexes, name)\u001b[0m\n\u001b[0;32m    977\u001b[0m non_consecutive \u001b[38;5;241m=\u001b[39m (step \u001b[38;5;241m!=\u001b[39m rng\u001b[38;5;241m.\u001b[39mstep \u001b[38;5;129;01mand\u001b[39;00m \u001b[38;5;28mlen\u001b[39m(rng) \u001b[38;5;241m>\u001b[39m \u001b[38;5;241m1\u001b[39m) \u001b[38;5;129;01mor\u001b[39;00m (\n\u001b[0;32m    978\u001b[0m     next_ \u001b[38;5;129;01mis\u001b[39;00m \u001b[38;5;129;01mnot\u001b[39;00m \u001b[38;5;28;01mNone\u001b[39;00m \u001b[38;5;129;01mand\u001b[39;00m rng\u001b[38;5;241m.\u001b[39mstart \u001b[38;5;241m!=\u001b[39m next_\n\u001b[0;32m    979\u001b[0m )\n\u001b[0;32m    980\u001b[0m \u001b[38;5;28;01mif\u001b[39;00m non_consecutive:\n\u001b[0;32m    981\u001b[0m     result \u001b[38;5;241m=\u001b[39m \u001b[38;5;28mself\u001b[39m\u001b[38;5;241m.\u001b[39m_constructor(\n\u001b[1;32m--> 982\u001b[0m         \u001b[43mnp\u001b[49m\u001b[38;5;241;43m.\u001b[39;49m\u001b[43mconcatenate\u001b[49m\u001b[43m(\u001b[49m\u001b[43m[\u001b[49m\u001b[43mx\u001b[49m\u001b[38;5;241;43m.\u001b[39;49m\u001b[43m_values\u001b[49m\u001b[43m \u001b[49m\u001b[38;5;28;43;01mfor\u001b[39;49;00m\u001b[43m \u001b[49m\u001b[43mx\u001b[49m\u001b[43m \u001b[49m\u001b[38;5;129;43;01min\u001b[39;49;00m\u001b[43m \u001b[49m\u001b[43mrng_indexes\u001b[49m\u001b[43m]\u001b[49m\u001b[43m)\u001b[49m\n\u001b[0;32m    983\u001b[0m     )\n\u001b[0;32m    984\u001b[0m     \u001b[38;5;28;01mreturn\u001b[39;00m result\u001b[38;5;241m.\u001b[39mrename(name)\n\u001b[0;32m    986\u001b[0m \u001b[38;5;28;01mif\u001b[39;00m step \u001b[38;5;129;01mis\u001b[39;00m \u001b[38;5;129;01mnot\u001b[39;00m \u001b[38;5;28;01mNone\u001b[39;00m:\n",
      "\u001b[1;31mMemoryError\u001b[0m: Unable to allocate 729. MiB for an array with shape (95518800,) and data type int64"
     ]
    }
   ],
   "source": [
    "enriched_points = dd.read_csv(\n",
    "    \"./anglova_metrics_enriched/points_enriched_metrics.csv\",\n",
    ").compute()\n",
    "enriched_points[\"t\"] = pd.to_datetime(enriched_points[\"t\"])\n",
    "enriched_trajectories_df = pd.read_csv(\n",
    "    \"./anglova_metrics_enriched/trajectories_enriched_metrics.csv\",\n",
    ")\n",
    "pair_wise_distances = dd.read_csv(\n",
    "    \"./pairwise_distances.csv\",\n",
    ").compute()\n"
   ]
  },
  {
   "cell_type": "code",
   "execution_count": null,
   "id": "76bd59f8",
   "metadata": {},
   "outputs": [],
   "source": [
    "output_path = \"./assets/Leader Following Patterns/\""
   ]
  },
  {
   "cell_type": "code",
   "execution_count": null,
   "id": "c92fd332",
   "metadata": {},
   "outputs": [],
   "source": [
    "def save_plot(filename):\n",
    "    if not os.path.exists(output_path):\n",
    "        os.makedirs(output_path)\n",
    "    plt.savefig(\n",
    "        f\"{output_path}/{filename}.png\",\n",
    "        bbox_inches=\"tight\",\n",
    "    )\n",
    "    plt.savefig(\n",
    "        f\"{output_path}/{filename}.pdf\",\n",
    "        bbox_inches=\"tight\",\n",
    "    )"
   ]
  },
  {
   "cell_type": "code",
   "execution_count": null,
   "id": "ccc40f42",
   "metadata": {},
   "outputs": [],
   "source": [
    "cud_okabe_ito_colors = [\n",
    "    \"#E69F00\",  # orange\n",
    "    \"#56B4E9\",  # sky blue\n",
    "    \"#009E73\",  # green\n",
    "    \"#F0E442\",  # yellow\n",
    "    \"#0072B2\",  # blue\n",
    "    \"#D55E00\",  # reddish orange\n",
    "    \"#CC79A7\",  # purple\n",
    "    \"#000000\",  # black\n",
    "]"
   ]
  },
  {
   "cell_type": "code",
   "execution_count": null,
   "id": "7aa1e580",
   "metadata": {},
   "outputs": [],
   "source": [
    "def get_company_color(company):\n",
    "    if company == 6:\n",
    "        return sns.color_palette(\"Set2\")[company - 1 % len(sns.color_palette(\"Set2\"))]\n",
    "    return sns.color_palette(\"Set1\")[company - 1 % len(sns.color_palette(\"Set1\"))]"
   ]
  },
  {
   "cell_type": "code",
   "execution_count": 8,
   "id": "6e840950",
   "metadata": {},
   "outputs": [
    {
     "name": "stdout",
     "output_type": "stream",
     "text": [
      "Top 5 líderes por PageRank: [(np.float64(107.0), 0.020806794055201697), (101.0, 0.020806794055201697), (100.0, 0.020806794055201697), (50.0, 0.01178343949044586), (np.float64(49.0), 0.01178343949044586)]\n",
      "Top 5 líderes por Degree Centrality: [(35.0, 0.14102564102564102), (np.float64(36.0), 0.14102564102564102), (34.0, 0.14102564102564102), (33.0, 0.14102564102564102), (32.0, 0.14102564102564102)]\n"
     ]
    }
   ],
   "source": [
    "# Criação de grafo direcionado: cada nó é um trajectory_id, arestas apontam de \"seguidores\" para \"líderes\" em cada instante\n",
    "\n",
    "G = nx.DiGraph()\n",
    "\n",
    "# Para cada instante de tempo, identificar quem está à frente (maior valor de 'y') em cada grupo (Company/Platoon)\n",
    "for (company, platoon, t), group in enriched_points.groupby(['Company', 'Platoon', 't']):\n",
    "    if len(group) < 2:\n",
    "        continue\n",
    "    # Ordena por 'y' decrescente (quem está mais à frente)\n",
    "    sorted_group = group.sort_values('y', ascending=False)\n",
    "    leader_id = sorted_group.iloc[0]['trajectory_id']\n",
    "    for _, row in sorted_group.iloc[1:].iterrows():\n",
    "        follower_id = row['trajectory_id']\n",
    "        # Adiciona aresta do seguidor para o líder\n",
    "        G.add_edge(follower_id, leader_id)\n",
    "\n",
    "# Algoritmos de centralidade\n",
    "pagerank = nx.pagerank(G)\n",
    "degree_centrality = nx.degree_centrality(G)\n",
    "\n",
    "# Exibir top 5 líderes por PageRank e Degree Centrality\n",
    "top_pagerank = sorted(pagerank.items(), key=lambda x: x[1], reverse=True)[:5]\n",
    "top_degree = sorted(degree_centrality.items(), key=lambda x: x[1], reverse=True)[:5]\n",
    "\n",
    "print(\"Top 5 líderes por PageRank:\", top_pagerank)\n",
    "print(\"Top 5 líderes por Degree Centrality:\", top_degree)"
   ]
  }
 ],
 "metadata": {
  "kernelspec": {
   "display_name": "moveminer",
   "language": "python",
   "name": "python3"
  },
  "language_info": {
   "codemirror_mode": {
    "name": "ipython",
    "version": 3
   },
   "file_extension": ".py",
   "mimetype": "text/x-python",
   "name": "python",
   "nbconvert_exporter": "python",
   "pygments_lexer": "ipython3",
   "version": "3.10.16"
  }
 },
 "nbformat": 4,
 "nbformat_minor": 5
}
